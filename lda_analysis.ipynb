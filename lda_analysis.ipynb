{
 "cells": [
  {
   "cell_type": "code",
   "execution_count": 1,
   "metadata": {},
   "outputs": [],
   "source": [
    "import numpy as np\n",
    "import pandas as pd\n",
    "import statsmodels.api as sm\n",
    "from moseq2_extras.plotutil import plot_behav_dist_and_usage\n",
    "from moseq2_viz.model.util import (get_transition_matrix,\n",
    "                                   parse_model_results,\n",
    "                                   results_to_dataframe,\n",
    "                                   relabel_by_usage, get_syllable_statistics)\n",
    "from moseq2_extras.stats import plot_syllable_usage_pca\n",
    "from moseq2_viz.util import parse_index\n",
    "import numpy as np\n",
    "import re\n",
    "import pandas as pd\n",
    "import seaborn as sns\n",
    "import sys\n",
    "from tqdm import tqdm\n",
    "from sklearn.decomposition import PCA\n",
    "from sklearn.discriminant_analysis import LinearDiscriminantAnalysis\n",
    "import matplotlib.pyplot as plt\n",
    "from random import shuffle, sample\n",
    "from sklearn.manifold import TSNE\n",
    "from scipy.spatial.distance import pdist, squareform\n",
    "from mpl_toolkits.mplot3d import Axes3D  # noqa: F401 unused import\n",
    "import matplotlib as mpl\n",
    "%matplotlib qt"
   ]
  },
  {
   "cell_type": "code",
   "execution_count": 5,
   "metadata": {},
   "outputs": [],
   "source": [
    "model_file = 'F:/moseq/2021-01-15_Meloxicam/2021-02-19_moseq/rST_model_1000.p'\n",
    "index_file = 'F:/moseq/2021-01-15_Meloxicam/2021-02-19_moseq/moseq2-index.role.yaml'\n",
    "\n",
    "max_syllable = 66\n",
    "\n",
    "groups = ['baseline', '4hrs carrageenan', '24hrs saline', '24hrs meloxicam', 'baseline meloxicam']\n",
    "palette = sns.color_palette(['#f06493', '#35fab3', '#647aa3', '#020887', '#ff0000'])\n",
    "markers = ['o', 's', '^', 'P', 'X']\n",
    "\n",
    "\n",
    "#groups = ['baseline', '4hrs carrageenan', '24hrs saline']\n",
    "#palette = sns.color_palette(['#f06493', '#35fab3', '#020887'])\n",
    "#markers = ['o', 's', '^']"
   ]
  },
  {
   "cell_type": "code",
   "execution_count": 3,
   "metadata": {},
   "outputs": [
    {
     "name": "stderr",
     "output_type": "stream",
     "text": [
      "                                                                                                                       "
     ]
    },
    {
     "name": "stdout",
     "output_type": "stream",
     "text": [
      "80 80 80 80\n"
     ]
    },
    {
     "name": "stderr",
     "output_type": "stream",
     "text": [
      "\r"
     ]
    }
   ],
   "source": [
    "_, sorted_index = parse_index(index_file)\n",
    "model = parse_model_results(model_file, sort_labels_by_usage=True, count='usage')\n",
    "\n",
    "labels = model['labels']\n",
    "label_group = [sorted_index['files'][uuid]['group'] for uuid in model['keys']]\n",
    "\n",
    "tm_vals = []\n",
    "group_vals = []\n",
    "usage_vals = []\n",
    "frames_vals = []\n",
    "\n",
    "for l, g, u in tqdm(list(zip(labels, label_group, model['keys'])), leave=False):\n",
    "    if g in groups:\n",
    "        group_vals.append(g)\n",
    "        \n",
    "        tm = get_transition_matrix([l], combine=True, max_syllable=max_syllable)\n",
    "        tm_vals.append(tm.ravel())\n",
    "        \n",
    "        u, _ = get_syllable_statistics(l, count='usage')\n",
    "        total_u = np.sum(list(u.values()))\n",
    "        usage_vals.append(np.array(list(u.values())) / total_u)\n",
    "        \n",
    "        f, _ = get_syllable_statistics(l, count='frames')\n",
    "        total_f = np.sum(list(f.values()))\n",
    "        frames_vals.append(np.array(list(f.values())) / total_f)\n",
    "\n",
    "print(len(tm_vals), len(group_vals), len(usage_vals), len(frames_vals))\n",
    "\n",
    "#tm_vals\n",
    "usage_vals = np.array(usage_vals)\n",
    "frames_vals = np.array(frames_vals)\n",
    "#usage_vals\n"
   ]
  },
  {
   "cell_type": "code",
   "execution_count": 8,
   "metadata": {},
   "outputs": [
    {
     "name": "stdout",
     "output_type": "stream",
     "text": [
      "LDA Score: 0.375\n",
      "LDA Explained Variance: [0.01615296 0.0107511 ]\n"
     ]
    }
   ],
   "source": [
    "# 2D LDA with Transitions\n",
    "\n",
    "lda = LinearDiscriminantAnalysis(n_components=2, solver='eigen', shrinkage=0.9)\n",
    "lda_result = lda.fit(tm_vals, group_vals).transform(tm_vals)\n",
    "print('LDA Score: {}'.format(lda.score(tm_vals, group_vals)))\n",
    "print('LDA Explained Variance: {}'.format(lda.explained_variance_ratio_))\n",
    "out_base = \"transitions_LDA_2D_5group\"\n",
    "\n",
    "\n",
    "fig = plt.figure(figsize=(10, 10))\n",
    "ax = fig.add_subplot(111)\n",
    "\n",
    "sns.kdeplot(x=lda_result.T[0], y=lda_result.T[1], hue=group_vals, hue_order=groups, palette=palette, fill=True, alpha=0.5)\n",
    "sns.scatterplot(ax=ax, x=lda_result.T[0], y=lda_result.T[1], hue=group_vals, hue_order=groups, style=group_vals, style_order=groups, markers=markers, palette=palette, legend=\"full\")\n",
    "\n",
    "ax.set_xlabel('LDA_1')\n",
    "ax.set_ylabel('LDA_2')\n",
    "ax.set_title('LDA Transitions')\n",
    "\n",
    "plt.savefig('{}.png'.format(out_base))\n",
    "plt.savefig('{}.pdf'.format(out_base))"
   ]
  },
  {
   "cell_type": "code",
   "execution_count": 9,
   "metadata": {},
   "outputs": [
    {
     "name": "stdout",
     "output_type": "stream",
     "text": [
      "LDA Score: 0.375\n",
      "LDA Explained Variance: [0.2579315  0.15966811]\n"
     ]
    }
   ],
   "source": [
    "# 2D LDA with Usage\n",
    "\n",
    "lda = LinearDiscriminantAnalysis(n_components=2, solver='eigen', shrinkage=0.1)\n",
    "lda_result = lda.fit(usage_vals, group_vals).transform(usage_vals)\n",
    "print('LDA Score: {}'.format(lda.score(usage_vals, group_vals)))\n",
    "print('LDA Explained Variance: {}'.format(lda.explained_variance_ratio_))\n",
    "out_base = \"usage_LDA_2D_5group\"\n",
    "\n",
    "fig = plt.figure(figsize=(10, 10))\n",
    "ax = fig.add_subplot(111)\n",
    "\n",
    "sns.kdeplot(x=lda_result.T[0], y=lda_result.T[1], hue=group_vals, hue_order=groups, palette=palette, fill=True, alpha=0.5)\n",
    "sns.scatterplot(ax=ax, x=lda_result.T[0], y=lda_result.T[1], hue=group_vals, hue_order=groups, style=group_vals, style_order=groups, markers=markers, palette=palette, legend=\"full\")\n",
    "\n",
    "ax.set_xlabel('LDA_1')\n",
    "ax.set_ylabel('LDA_2')\n",
    "ax.set_title('LDA Usage')\n",
    "\n",
    "plt.savefig('{}.png'.format(out_base))\n",
    "plt.savefig('{}.pdf'.format(out_base))"
   ]
  },
  {
   "cell_type": "code",
   "execution_count": 10,
   "metadata": {},
   "outputs": [
    {
     "name": "stdout",
     "output_type": "stream",
     "text": [
      "LDA Score: 0.375\n",
      "LDA Explained Variance: [0.23980199 0.15009701]\n"
     ]
    }
   ],
   "source": [
    "# 2D LDA with Frames\n",
    "\n",
    "lda = LinearDiscriminantAnalysis(n_components=2, solver='eigen', shrinkage=0.1)\n",
    "lda_result = lda.fit(frames_vals, group_vals).transform(frames_vals)\n",
    "print('LDA Score: {}'.format(lda.score(frames_vals, group_vals)))\n",
    "print('LDA Explained Variance: {}'.format(lda.explained_variance_ratio_))\n",
    "out_base = \"frames_LDA_2D_5group\"\n",
    "\n",
    "fig = plt.figure(figsize=(10, 10))\n",
    "ax = fig.add_subplot(111)\n",
    "\n",
    "sns.kdeplot(x=lda_result.T[0], y=lda_result.T[1], hue=group_vals, hue_order=groups, palette=palette, fill=True, alpha=0.5)\n",
    "sns.scatterplot(ax=ax, x=lda_result.T[0], y=lda_result.T[1], hue=group_vals, hue_order=groups, style=group_vals, style_order=groups, markers=markers, palette=palette, legend=\"full\")\n",
    "\n",
    "ax.set_xlabel('LDA_1')\n",
    "ax.set_ylabel('LDA_2')\n",
    "ax.set_title('LDA Frames')\n",
    "\n",
    "plt.savefig('{}.png'.format(out_base))\n",
    "plt.savefig('{}.pdf'.format(out_base))"
   ]
  },
  {
   "cell_type": "code",
   "execution_count": 4,
   "metadata": {},
   "outputs": [
    {
     "name": "stdout",
     "output_type": "stream",
     "text": [
      "LDA Score: 0.5\n",
      "LDA Explained Variance: [0.02356179 0.01153724]\n"
     ]
    },
    {
     "ename": "IndexError",
     "evalue": "index 2 is out of bounds for axis 0 with size 2",
     "output_type": "error",
     "traceback": [
      "\u001b[1;31m---------------------------------------------------------------------------\u001b[0m",
      "\u001b[1;31mIndexError\u001b[0m                                Traceback (most recent call last)",
      "\u001b[1;32m<ipython-input-4-274b35528f5e>\u001b[0m in \u001b[0;36m<module>\u001b[1;34m\u001b[0m\n\u001b[0;32m     13\u001b[0m \u001b[0mms\u001b[0m \u001b[1;33m=\u001b[0m \u001b[1;33m[\u001b[0m\u001b[0mmarkers\u001b[0m\u001b[1;33m[\u001b[0m\u001b[0mgroups\u001b[0m\u001b[1;33m.\u001b[0m\u001b[0mindex\u001b[0m\u001b[1;33m(\u001b[0m\u001b[0mg\u001b[0m\u001b[1;33m)\u001b[0m\u001b[1;33m]\u001b[0m \u001b[1;32mfor\u001b[0m \u001b[0mg\u001b[0m \u001b[1;32min\u001b[0m \u001b[0mgroup_vals\u001b[0m\u001b[1;33m]\u001b[0m\u001b[1;33m\u001b[0m\u001b[1;33m\u001b[0m\u001b[0m\n\u001b[0;32m     14\u001b[0m \u001b[1;32mfor\u001b[0m \u001b[0md\u001b[0m\u001b[1;33m,\u001b[0m \u001b[0mc\u001b[0m\u001b[1;33m,\u001b[0m \u001b[0mm\u001b[0m\u001b[1;33m,\u001b[0m \u001b[0mg\u001b[0m \u001b[1;32min\u001b[0m \u001b[0mzip\u001b[0m\u001b[1;33m(\u001b[0m\u001b[0mlda_result\u001b[0m\u001b[1;33m,\u001b[0m \u001b[0mcs\u001b[0m\u001b[1;33m,\u001b[0m \u001b[0mms\u001b[0m\u001b[1;33m,\u001b[0m \u001b[0mgroup_vals\u001b[0m\u001b[1;33m)\u001b[0m\u001b[1;33m:\u001b[0m\u001b[1;33m\u001b[0m\u001b[1;33m\u001b[0m\u001b[0m\n\u001b[1;32m---> 15\u001b[1;33m     \u001b[0max\u001b[0m\u001b[1;33m.\u001b[0m\u001b[0mscatter\u001b[0m\u001b[1;33m(\u001b[0m\u001b[0md\u001b[0m\u001b[1;33m[\u001b[0m\u001b[1;36m0\u001b[0m\u001b[1;33m]\u001b[0m\u001b[1;33m,\u001b[0m \u001b[0md\u001b[0m\u001b[1;33m[\u001b[0m\u001b[1;36m1\u001b[0m\u001b[1;33m]\u001b[0m\u001b[1;33m,\u001b[0m \u001b[0md\u001b[0m\u001b[1;33m[\u001b[0m\u001b[1;36m2\u001b[0m\u001b[1;33m]\u001b[0m\u001b[1;33m,\u001b[0m \u001b[0mc\u001b[0m\u001b[1;33m=\u001b[0m\u001b[1;33m[\u001b[0m\u001b[0mc\u001b[0m\u001b[1;33m]\u001b[0m\u001b[1;33m,\u001b[0m \u001b[0mmarker\u001b[0m\u001b[1;33m=\u001b[0m\u001b[0mm\u001b[0m\u001b[1;33m,\u001b[0m \u001b[0mlabel\u001b[0m\u001b[1;33m=\u001b[0m\u001b[0mg\u001b[0m\u001b[1;33m)\u001b[0m\u001b[1;33m\u001b[0m\u001b[1;33m\u001b[0m\u001b[0m\n\u001b[0m\u001b[0;32m     16\u001b[0m \u001b[1;33m\u001b[0m\u001b[0m\n\u001b[0;32m     17\u001b[0m \u001b[0mplt\u001b[0m\u001b[1;33m.\u001b[0m\u001b[0mlegend\u001b[0m\u001b[1;33m(\u001b[0m\u001b[0mlgd_itms\u001b[0m\u001b[1;33m,\u001b[0m \u001b[0mgroups\u001b[0m\u001b[1;33m)\u001b[0m\u001b[1;33m\u001b[0m\u001b[1;33m\u001b[0m\u001b[0m\n",
      "\u001b[1;31mIndexError\u001b[0m: index 2 is out of bounds for axis 0 with size 2"
     ]
    }
   ],
   "source": [
    "# 3D LDA with Transitions\n",
    "\n",
    "lda = LinearDiscriminantAnalysis(n_components=3, solver='eigen', shrinkage=0.9)\n",
    "lda_result = lda.fit(tm_vals, group_vals).transform(tm_vals)\n",
    "print('LDA Score: {}'.format(lda.score(tm_vals, group_vals)))\n",
    "print('LDA Explained Variance: {}'.format(lda.explained_variance_ratio_))\n",
    "\n",
    "lgd_itms = [mpl.lines.Line2D([0],[0], linestyle=\"none\", c=c, marker=m) for c, m in zip(palette, markers)]\n",
    "\n",
    "fig = plt.figure(figsize=(10, 10))\n",
    "ax = fig.add_subplot(111, projection='3d')\n",
    "cs = [palette[groups.index(g)] for g in group_vals]\n",
    "ms = [markers[groups.index(g)] for g in group_vals]\n",
    "for d, c, m, g in zip(lda_result, cs, ms, group_vals):\n",
    "    ax.scatter(d[0], d[1], d[2], c=[c], marker=m, label=g)\n",
    "\n",
    "plt.legend(lgd_itms, groups)\n",
    "ax.set_xlabel('LDA_1')\n",
    "ax.set_ylabel('LDA_2')\n",
    "ax.set_zlabel('LDA_3')\n",
    "ax.set_title('LDA Transitions')\n",
    "fig.show()"
   ]
  },
  {
   "cell_type": "code",
   "execution_count": 17,
   "metadata": {},
   "outputs": [
    {
     "name": "stdout",
     "output_type": "stream",
     "text": [
      "LDA Score: 0.16666666666666666\n",
      "LDA Explained Variance: [nan nan]\n"
     ]
    },
    {
     "ename": "IndexError",
     "evalue": "index 2 is out of bounds for axis 0 with size 2",
     "output_type": "error",
     "traceback": [
      "\u001b[1;31m---------------------------------------------------------------------------\u001b[0m",
      "\u001b[1;31mIndexError\u001b[0m                                Traceback (most recent call last)",
      "\u001b[1;32m<ipython-input-17-2c50d86491f8>\u001b[0m in \u001b[0;36m<module>\u001b[1;34m\u001b[0m\n\u001b[0;32m     13\u001b[0m \u001b[0mms\u001b[0m \u001b[1;33m=\u001b[0m \u001b[1;33m[\u001b[0m\u001b[0mmarkers\u001b[0m\u001b[1;33m[\u001b[0m\u001b[0mgroups\u001b[0m\u001b[1;33m.\u001b[0m\u001b[0mindex\u001b[0m\u001b[1;33m(\u001b[0m\u001b[0mg\u001b[0m\u001b[1;33m)\u001b[0m\u001b[1;33m]\u001b[0m \u001b[1;32mfor\u001b[0m \u001b[0mg\u001b[0m \u001b[1;32min\u001b[0m \u001b[0mgroup_vals\u001b[0m\u001b[1;33m]\u001b[0m\u001b[1;33m\u001b[0m\u001b[1;33m\u001b[0m\u001b[0m\n\u001b[0;32m     14\u001b[0m \u001b[1;32mfor\u001b[0m \u001b[0md\u001b[0m\u001b[1;33m,\u001b[0m \u001b[0mc\u001b[0m\u001b[1;33m,\u001b[0m \u001b[0mm\u001b[0m\u001b[1;33m,\u001b[0m \u001b[0mg\u001b[0m \u001b[1;32min\u001b[0m \u001b[0mzip\u001b[0m\u001b[1;33m(\u001b[0m\u001b[0mlda_result\u001b[0m\u001b[1;33m,\u001b[0m \u001b[0mcs\u001b[0m\u001b[1;33m,\u001b[0m \u001b[0mms\u001b[0m\u001b[1;33m,\u001b[0m \u001b[0mgroup_vals\u001b[0m\u001b[1;33m)\u001b[0m\u001b[1;33m:\u001b[0m\u001b[1;33m\u001b[0m\u001b[1;33m\u001b[0m\u001b[0m\n\u001b[1;32m---> 15\u001b[1;33m     \u001b[0max\u001b[0m\u001b[1;33m.\u001b[0m\u001b[0mscatter\u001b[0m\u001b[1;33m(\u001b[0m\u001b[0md\u001b[0m\u001b[1;33m[\u001b[0m\u001b[1;36m0\u001b[0m\u001b[1;33m]\u001b[0m\u001b[1;33m,\u001b[0m \u001b[0md\u001b[0m\u001b[1;33m[\u001b[0m\u001b[1;36m1\u001b[0m\u001b[1;33m]\u001b[0m\u001b[1;33m,\u001b[0m \u001b[0md\u001b[0m\u001b[1;33m[\u001b[0m\u001b[1;36m2\u001b[0m\u001b[1;33m]\u001b[0m\u001b[1;33m,\u001b[0m \u001b[0mc\u001b[0m\u001b[1;33m=\u001b[0m\u001b[1;33m[\u001b[0m\u001b[0mc\u001b[0m\u001b[1;33m]\u001b[0m\u001b[1;33m,\u001b[0m \u001b[0mmarker\u001b[0m\u001b[1;33m=\u001b[0m\u001b[0mm\u001b[0m\u001b[1;33m,\u001b[0m \u001b[0mlabel\u001b[0m\u001b[1;33m=\u001b[0m\u001b[0mg\u001b[0m\u001b[1;33m)\u001b[0m\u001b[1;33m\u001b[0m\u001b[1;33m\u001b[0m\u001b[0m\n\u001b[0m\u001b[0;32m     16\u001b[0m \u001b[1;33m\u001b[0m\u001b[0m\n\u001b[0;32m     17\u001b[0m \u001b[0mplt\u001b[0m\u001b[1;33m.\u001b[0m\u001b[0mlegend\u001b[0m\u001b[1;33m(\u001b[0m\u001b[0mlgd_itms\u001b[0m\u001b[1;33m,\u001b[0m \u001b[0mgroups\u001b[0m\u001b[1;33m)\u001b[0m\u001b[1;33m\u001b[0m\u001b[1;33m\u001b[0m\u001b[0m\n",
      "\u001b[1;31mIndexError\u001b[0m: index 2 is out of bounds for axis 0 with size 2"
     ]
    }
   ],
   "source": [
    "# 3D LDA with Usage\n",
    "\n",
    "lda = LinearDiscriminantAnalysis(n_components=3, solver='eigen', shrinkage=0.2)\n",
    "lda_result = lda.fit(usage_vals, group_vals).transform(usage_vals)\n",
    "print('LDA Score: {}'.format(lda.score(usage_vals, group_vals)))\n",
    "print('LDA Explained Variance: {}'.format(lda.explained_variance_ratio_))\n",
    "\n",
    "lgd_itms = [mpl.lines.Line2D([0],[0], linestyle=\"none\", c=c, marker=m) for c, m in zip(palette, markers)]\n",
    "\n",
    "fig = plt.figure(figsize=(10, 10))\n",
    "ax = fig.add_subplot(111, projection='3d')\n",
    "cs = [palette[groups.index(g)] for g in group_vals]\n",
    "ms = [markers[groups.index(g)] for g in group_vals]\n",
    "for d, c, m, g in zip(lda_result, cs, ms, group_vals):\n",
    "    ax.scatter(d[0], d[1], d[2], c=[c], marker=m, label=g)\n",
    "\n",
    "plt.legend(lgd_itms, groups)\n",
    "ax.set_xlabel('LDA_1')\n",
    "ax.set_ylabel('LDA_2')\n",
    "ax.set_zlabel('LDA_3')\n",
    "ax.set_title('LDA Usage')\n",
    "fig.show()"
   ]
  },
  {
   "cell_type": "code",
   "execution_count": 9,
   "metadata": {},
   "outputs": [
    {
     "name": "stdout",
     "output_type": "stream",
     "text": [
      "LDA Score: 0.16666666666666666\n",
      "LDA Explained Variance: [nan nan]\n"
     ]
    },
    {
     "ename": "IndexError",
     "evalue": "index 2 is out of bounds for axis 0 with size 2",
     "output_type": "error",
     "traceback": [
      "\u001b[1;31m---------------------------------------------------------------------------\u001b[0m",
      "\u001b[1;31mIndexError\u001b[0m                                Traceback (most recent call last)",
      "\u001b[1;32m<ipython-input-9-ea104b896b7c>\u001b[0m in \u001b[0;36m<module>\u001b[1;34m\u001b[0m\n\u001b[0;32m     13\u001b[0m \u001b[0mms\u001b[0m \u001b[1;33m=\u001b[0m \u001b[1;33m[\u001b[0m\u001b[0mmarkers\u001b[0m\u001b[1;33m[\u001b[0m\u001b[0mgroups\u001b[0m\u001b[1;33m.\u001b[0m\u001b[0mindex\u001b[0m\u001b[1;33m(\u001b[0m\u001b[0mg\u001b[0m\u001b[1;33m)\u001b[0m\u001b[1;33m]\u001b[0m \u001b[1;32mfor\u001b[0m \u001b[0mg\u001b[0m \u001b[1;32min\u001b[0m \u001b[0mgroup_vals\u001b[0m\u001b[1;33m]\u001b[0m\u001b[1;33m\u001b[0m\u001b[1;33m\u001b[0m\u001b[0m\n\u001b[0;32m     14\u001b[0m \u001b[1;32mfor\u001b[0m \u001b[0md\u001b[0m\u001b[1;33m,\u001b[0m \u001b[0mc\u001b[0m\u001b[1;33m,\u001b[0m \u001b[0mm\u001b[0m\u001b[1;33m,\u001b[0m \u001b[0mg\u001b[0m \u001b[1;32min\u001b[0m \u001b[0mzip\u001b[0m\u001b[1;33m(\u001b[0m\u001b[0mlda_result\u001b[0m\u001b[1;33m,\u001b[0m \u001b[0mcs\u001b[0m\u001b[1;33m,\u001b[0m \u001b[0mms\u001b[0m\u001b[1;33m,\u001b[0m \u001b[0mgroup_vals\u001b[0m\u001b[1;33m)\u001b[0m\u001b[1;33m:\u001b[0m\u001b[1;33m\u001b[0m\u001b[1;33m\u001b[0m\u001b[0m\n\u001b[1;32m---> 15\u001b[1;33m     \u001b[0max\u001b[0m\u001b[1;33m.\u001b[0m\u001b[0mscatter\u001b[0m\u001b[1;33m(\u001b[0m\u001b[0md\u001b[0m\u001b[1;33m[\u001b[0m\u001b[1;36m0\u001b[0m\u001b[1;33m]\u001b[0m\u001b[1;33m,\u001b[0m \u001b[0md\u001b[0m\u001b[1;33m[\u001b[0m\u001b[1;36m1\u001b[0m\u001b[1;33m]\u001b[0m\u001b[1;33m,\u001b[0m \u001b[0md\u001b[0m\u001b[1;33m[\u001b[0m\u001b[1;36m2\u001b[0m\u001b[1;33m]\u001b[0m\u001b[1;33m,\u001b[0m \u001b[0mc\u001b[0m\u001b[1;33m=\u001b[0m\u001b[1;33m[\u001b[0m\u001b[0mc\u001b[0m\u001b[1;33m]\u001b[0m\u001b[1;33m,\u001b[0m \u001b[0mmarker\u001b[0m\u001b[1;33m=\u001b[0m\u001b[0mm\u001b[0m\u001b[1;33m,\u001b[0m \u001b[0mlabel\u001b[0m\u001b[1;33m=\u001b[0m\u001b[0mg\u001b[0m\u001b[1;33m)\u001b[0m\u001b[1;33m\u001b[0m\u001b[1;33m\u001b[0m\u001b[0m\n\u001b[0m\u001b[0;32m     16\u001b[0m \u001b[1;33m\u001b[0m\u001b[0m\n\u001b[0;32m     17\u001b[0m \u001b[0mplt\u001b[0m\u001b[1;33m.\u001b[0m\u001b[0mlegend\u001b[0m\u001b[1;33m(\u001b[0m\u001b[0mlgd_itms\u001b[0m\u001b[1;33m,\u001b[0m \u001b[0mgroups\u001b[0m\u001b[1;33m)\u001b[0m\u001b[1;33m\u001b[0m\u001b[1;33m\u001b[0m\u001b[0m\n",
      "\u001b[1;31mIndexError\u001b[0m: index 2 is out of bounds for axis 0 with size 2"
     ]
    }
   ],
   "source": [
    "# 3D LDA with Frames\n",
    "\n",
    "lda = LinearDiscriminantAnalysis(n_components=3, solver='eigen', shrinkage=0.1)\n",
    "lda_result = lda.fit(frames_vals, group_vals).transform(frames_vals)\n",
    "print('LDA Score: {}'.format(lda.score(frames_vals, group_vals)))\n",
    "print('LDA Explained Variance: {}'.format(lda.explained_variance_ratio_))\n",
    "\n",
    "lgd_itms = [mpl.lines.Line2D([0],[0], linestyle=\"none\", c=c, marker=m) for c, m in zip(palette, markers)]\n",
    "\n",
    "fig = plt.figure(figsize=(10, 10))\n",
    "ax = fig.add_subplot(111, projection='3d')\n",
    "cs = [palette[groups.index(g)] for g in group_vals]\n",
    "ms = [markers[groups.index(g)] for g in group_vals]\n",
    "for d, c, m, g in zip(lda_result, cs, ms, group_vals):\n",
    "    ax.scatter(d[0], d[1], d[2], c=[c], marker=m, label=g)\n",
    "\n",
    "plt.legend(lgd_itms, groups)\n",
    "ax.set_xlabel('LDA_1')\n",
    "ax.set_ylabel('LDA_2')\n",
    "ax.set_zlabel('LDA_3')\n",
    "ax.set_title('LDA Frames')\n",
    "fig.show()"
   ]
  },
  {
   "cell_type": "code",
   "execution_count": null,
   "metadata": {},
   "outputs": [],
   "source": []
  }
 ],
 "metadata": {
  "kernelspec": {
   "display_name": "Python 3",
   "language": "python",
   "name": "python3"
  },
  "language_info": {
   "codemirror_mode": {
    "name": "ipython",
    "version": 3
   },
   "file_extension": ".py",
   "mimetype": "text/x-python",
   "name": "python",
   "nbconvert_exporter": "python",
   "pygments_lexer": "ipython3",
   "version": "3.7.4"
  }
 },
 "nbformat": 4,
 "nbformat_minor": 4
}
