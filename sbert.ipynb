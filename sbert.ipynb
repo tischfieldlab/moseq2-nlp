{
 "cells": [
  {
   "cell_type": "code",
   "execution_count": 1,
   "metadata": {},
   "outputs": [],
   "source": [
    "import numpy as np\n",
    "import torch\n",
    "from torch.utils.data import DataLoader\n",
    "import moseq2_viz\n",
    "from moseq2_viz.util import parse_index\n",
    "from moseq2_viz.model.util import (get_transition_matrix,\n",
    "                                   parse_model_results,\n",
    "                                   results_to_dataframe,\n",
    "                                   relabel_by_usage, get_syllable_statistics)\n",
    "from sentence_transformers import SentenceTransformer, models, InputExample, datasets\n",
    "from tqdm.notebook import tqdm\n",
    "import seaborn as sns\n",
    "import pdb\n",
    "import os\n",
    "os.environ['CUDA_DEVICE_ORDER']='PCI_BUS_ID'\n",
    "os.environ['CUDA_VISIBLE_DEVICES']='4'"
   ]
  },
  {
   "cell_type": "code",
   "execution_count": 2,
   "metadata": {},
   "outputs": [],
   "source": [
    "super_dir = '/media/data_cifs/matt/abraira_data'\n",
    "experiment = '2021-02-19_Meloxicam'\n",
    "if experiment == '2021-02-19_Meloxicam':\n",
    "    model_file = os.path.join(super_dir, experiment, 'rST_model_1000.p')\n",
    "    index_file = os.path.join(super_dir, experiment, 'moseq2-index.role.yaml')\n",
    "    max_syllable = 66\n",
    "    groups = ['baseline', '4hrs carrageenan', '24hrs saline', '24hrs meloxicam', 'baseline meloxicam']\n",
    "elif experiment == '2020-11-10_Celsr3-R774H':\n",
    "    model_file = os.path.join(super_dir, experiment, 'robust_septrans_model_1000.p')\n",
    "    index_file = os.path.join(super_dir, experiment, 'gender-genotype-index.yaml')\n",
    "    max_syllable = 66\n",
    "    groups = ['F_+/+', 'F_RH/RH', 'F_+/RH', 'M_+/+', 'M_RH/RH', 'M_+/RH']\n",
    "elif experiment == 'SstCre_Celsr3CKO':\n",
    "    model_file = os.path.join(super_dir, experiment, 'robust_septrans_model_20min_1000.p')\n",
    "    index_file = os.path.join(super_dir, experiment, 'moseq2-index.sex-genotype.20min.yaml')\n",
    "    max_syllable = 66\n",
    "    groups = ['F_+/+;Celsr3^f/f', 'F_Sst-Cre/+;Celsr3^f/f', 'M_Sst-Cre/+;Celsr3^f/f', 'M_+/+;Celsr3^f/f']\n",
    "palette = sns.color_palette(['#f06493', '#35fab3', '#647aa3', '#020887', '#ff0000'])\n"
   ]
  },
  {
   "cell_type": "code",
   "execution_count": 4,
   "metadata": {},
   "outputs": [
    {
     "data": {
      "application/vnd.jupyter.widget-view+json": {
       "model_id": "",
       "version_major": 2,
       "version_minor": 0
      },
      "text/plain": [
       "HBox(children=(IntProgress(value=0, max=80), HTML(value='')))"
      ]
     },
     "metadata": {},
     "output_type": "display_data"
    },
    {
     "name": "stdout",
     "output_type": "stream",
     "text": [
      "\r"
     ]
    }
   ],
   "source": [
    "_, sorted_index = parse_index(index_file)\n",
    "ms_model = parse_model_results(model_file, sort_labels_by_usage=True, count='usage')\n",
    "\n",
    "labels = ms_model['labels']\n",
    "label_group = [sorted_index['files'][uuid]['group'] for uuid in ms_model['keys']]\n",
    "tm_vals = []\n",
    "group_vals = []\n",
    "group_labels = []\n",
    "usage_vals = []\n",
    "frames_vals = []\n",
    "syllables_vals = []\n",
    "sentences_vals = []\n",
    "bad_syllables = [-5]\n",
    "\n",
    "for l, g, u in tqdm(list(zip(labels, label_group, ms_model['keys'])), leave=False):\n",
    "    if g in groups:\n",
    "        group_vals.append(g)\n",
    "        group_labels.append(groups.index(g))\n",
    "        \n",
    "        tm = get_transition_matrix([l], combine=True, max_syllable=max_syllable)\n",
    "        tm_vals.append(tm.ravel())\n",
    "        \n",
    "        u, _ = get_syllable_statistics(l, count='usage')\n",
    "        total_u = np.sum(list(u.values()))\n",
    "        usage_vals.append(np.array(list(u.values())) / total_u)\n",
    "        \n",
    "        f, _ = get_syllable_statistics(l, count='frames')\n",
    "        total_f = np.sum(list(f.values()))\n",
    "        frames_vals.append(np.array(list(f.values())) / total_f)\n",
    "\n",
    "        l = list(filter(lambda a: a not in bad_syllables, l))\n",
    "        np_l = np.array(l)\n",
    "        cp_inds = np.concatenate((np.where(np.diff(np_l) != 0 )[0],np.array([len(l) - 1])))\n",
    "        syllables = np_l[cp_inds]\n",
    "        syllables_vals.append(syllables)\n",
    "        sentence = [str(syl) for syl in syllables]\n",
    "        sentences_vals.append(' '.join(sentence))\n",
    "\n",
    "#tm_vals\n",
    "usage_vals = np.array(usage_vals)\n",
    "frames_vals = np.array(frames_vals)\n",
    "#usage_vals\n",
    "num_animals = len(syllables_vals)\n",
    "\n",
    "train_prop = .8\n",
    "train_sentences = sentences_vals[:int(train_prop*num_animals)]\n",
    "test_sentences = sentences_vals[int(train_prop*num_animals):]\n",
    "num_train = len(train_sentences)\n",
    "num_test = num_animals - num_train"
   ]
  },
  {
   "cell_type": "code",
   "execution_count": null,
   "metadata": {},
   "outputs": [],
   "source": [
    "with open(os.path.join(super_dir, experiment, experiment + '.txt'), 'w') as f: \n",
    "    f.write('\\n'.join([sentence for sentence in sentences_vals]))  # write lines with '#' appended"
   ]
  },
  {
   "cell_type": "code",
   "execution_count": 5,
   "metadata": {},
   "outputs": [
    {
     "data": {
      "application/vnd.jupyter.widget-view+json": {
       "model_id": "73a862adfd734fde93320ba8ec249580",
       "version_major": 2,
       "version_minor": 0
      },
      "text/plain": [
       "HBox(children=(IntProgress(value=0, max=4032), HTML(value='')))"
      ]
     },
     "metadata": {},
     "output_type": "display_data"
    },
    {
     "name": "stdout",
     "output_type": "stream",
     "text": [
      "\n"
     ]
    }
   ],
   "source": [
    "train_examples = []\n",
    "# num_animals = len(syllables_vals)\n",
    "\n",
    "with tqdm(total=num_train**2 - num_train) as pbar:\n",
    "    for i, sentence1 in enumerate(train_sentences):\n",
    "        for j, sentence2 in enumerate(train_sentences):\n",
    "            if i == j: \n",
    "                continue\n",
    "            else:\n",
    "                texts = [sentence1, sentence2]\n",
    "                label = 1.0*(group_vals[i] == group_vals[j])\n",
    "            train_examples.append(InputExample(texts=texts, label=label))\n",
    "            pbar.update(1)\n",
    "\n",
    "train_dataloader = DataLoader(train_examples, shuffle=True, batch_size=8)\n",
    "# train_dataloader = DataLoader(train_examples[:int(.8*len(train_examples))], shuffle=True, batch_size=8)"
   ]
  },
  {
   "cell_type": "code",
   "execution_count": 5,
   "metadata": {},
   "outputs": [],
   "source": [
    "# Create the special denoising dataset that adds noise on-the-fly\n",
    "noisy_data = datasets.DenoisingAutoEncoderDataset(sentences_vals)\n",
    "\n",
    "# DataLoader to batch your data\n",
    "noisy_dataloader = DataLoader(noisy_data, batch_size=8, shuffle=True)"
   ]
  },
  {
   "cell_type": "code",
   "execution_count": 6,
   "metadata": {},
   "outputs": [],
   "source": [
    "double_data = [InputExample(texts=[s, s]) for s in sentences_vals]\n",
    "double_dataloader = DataLoader(double_data, batch_size=8, shuffle=True)"
   ]
  },
  {
   "cell_type": "code",
   "execution_count": 19,
   "metadata": {},
   "outputs": [
    {
     "name": "stderr",
     "output_type": "stream",
     "text": [
      "Some weights of the model checkpoint at bert-base-uncased were not used when initializing BertModel: ['cls.seq_relationship.weight', 'cls.predictions.transform.LayerNorm.weight', 'cls.predictions.transform.dense.weight', 'cls.predictions.decoder.weight', 'cls.predictions.transform.dense.bias', 'cls.predictions.transform.LayerNorm.bias', 'cls.seq_relationship.bias', 'cls.predictions.bias']\n",
      "- This IS expected if you are initializing BertModel from the checkpoint of a model trained on another task or with another architecture (e.g. initializing a BertForSequenceClassification model from a BertForPreTraining model).\n",
      "- This IS NOT expected if you are initializing BertModel from the checkpoint of a model that you expect to be exactly identical (initializing a BertForSequenceClassification model from a BertForSequenceClassification model).\n"
     ]
    }
   ],
   "source": [
    "device='cuda'\n",
    "model_name = 'bert-base-uncased'\n",
    "word_embedding_model = models.Transformer(model_name, max_seq_length=256)\n",
    "pooling_model = models.Pooling(word_embedding_model.get_word_embedding_dimension())\n",
    "dense_model = models.Dense(in_features=pooling_model.get_sentence_embedding_dimension(), out_features=70, activation_function=torch.nn.Tanh())\n",
    "model = SentenceTransformer(modules=[word_embedding_model, pooling_model, dense_model], device=device)\n",
    "# pooling_model = models.Pooling(word_embedding_model.get_word_embedding_dimension(), 'cls')\n",
    "# model = SentenceTransformer(modules=[word_embedding_model, pooling_model], device=device)"
   ]
  },
  {
   "cell_type": "code",
   "execution_count": 20,
   "metadata": {},
   "outputs": [
    {
     "data": {
      "application/vnd.jupyter.widget-view+json": {
       "model_id": "f3dea05269094e37b1762b0fe7230500",
       "version_major": 2,
       "version_minor": 0
      },
      "text/plain": [
       "HBox(children=(IntProgress(value=0, description='Epoch', max=1, style=ProgressStyle(description_width='initial…"
      ]
     },
     "metadata": {},
     "output_type": "display_data"
    },
    {
     "data": {
      "application/vnd.jupyter.widget-view+json": {
       "model_id": "718eda62b6ee46229860fe658e52db91",
       "version_major": 2,
       "version_minor": 0
      },
      "text/plain": [
       "HBox(children=(IntProgress(value=0, description='Iteration', max=504, style=ProgressStyle(description_width='i…"
      ]
     },
     "metadata": {},
     "output_type": "display_data"
    },
    {
     "name": "stdout",
     "output_type": "stream",
     "text": [
      "\n",
      "\n"
     ]
    }
   ],
   "source": [
    "from sentence_transformers import losses\n",
    "from warnings import simplefilter\n",
    "# ignore all future warnings\n",
    "simplefilter(action='ignore', category=FutureWarning)\n",
    "\n",
    "loss_type = 'semisupervised' # 'unsupervised1', 'unsupervised2'\n",
    "\n",
    "if loss_type == 'semisupervised':\n",
    "    train_loss = losses.CosineSimilarityLoss(model)\n",
    "\n",
    "    #Tune the model\n",
    "    model.fit(train_objectives=[(train_dataloader, train_loss)], epochs=1, warmup_steps=100)\n",
    "elif loss_type == 'unsupervised1':\n",
    "\n",
    "    train_loss = losses.DenoisingAutoEncoderLoss(model, decoder_name_or_path=model_name, tie_encoder_decoder=True)\n",
    "\n",
    "    # Call the fit method\n",
    "    model.fit(\n",
    "        train_objectives=[(noisy_dataloader, train_loss)],\n",
    "        epochs=10,\n",
    "        weight_decay=0,\n",
    "        scheduler='constantlr',\n",
    "        optimizer_params={'lr': 3e-5},\n",
    "        show_progress_bar=True\n",
    "    )\n",
    "elif loss_type == 'unsupervised2':\n",
    "\n",
    "    # Use the denoising auto-encoder loss\n",
    "    train_loss = losses.MultipleNegativesRankingLoss(model)\n",
    "\n",
    "    # Call the fit method\n",
    "    model.fit(\n",
    "        train_objectives=[(double_dataloader, train_loss)],\n",
    "        epochs=1,\n",
    "        weight_decay=0,\n",
    "        scheduler='constantlr',\n",
    "        optimizer_params={'lr': 1e-3},\n",
    "        show_progress_bar=True\n",
    "    )\n"
   ]
  },
  {
   "cell_type": "code",
   "execution_count": 21,
   "metadata": {},
   "outputs": [
    {
     "data": {
      "image/png": "[encoded data removed]",
      "text/plain": [
       "<Figure size 1152x576 with 2 Axes>"
      ]
     },
     "metadata": {
      "needs_background": "light"
     },
     "output_type": "display_data"
    }
   ],
   "source": [
    "import matplotlib.pyplot as plt\n",
    "train_embeddings = model.encode(train_sentences)\n",
    "test_embeddings = model.encode(test_sentences)\n",
    "\n",
    "np_g = np.array(group_labels)\n",
    "train_labels = np_g[:num_train]\n",
    "test_labels = np_g[num_train:]\n",
    "\n",
    "fig, axes = plt.subplots(1,2,figsize=(16,8))\n",
    "\n",
    "for ax, em, lb in zip(axes,[train_embeddings, test_embeddings], [train_labels, test_labels]): \n",
    "    lb_ind = np.argsort(lb)\n",
    "    lb = lb[lb_ind]\n",
    "    ax.imshow(em[lb,:])\n",
    "    ax.set_aspect('auto')\n",
    "plt.show()\n",
    "plt.close()"
   ]
  },
  {
   "cell_type": "code",
   "execution_count": 22,
   "metadata": {},
   "outputs": [
    {
     "name": "stdout",
     "output_type": "stream",
     "text": [
      "0.28125\n",
      "0.3125\n"
     ]
    }
   ],
   "source": [
    "from sklearn.linear_model import LogisticRegression\n",
    "# import warnings filter\n",
    "from warnings import simplefilter\n",
    "# ignore all future warnings\n",
    "simplefilter(action='ignore', category=FutureWarning)\n",
    "\n",
    "C = 5e-2 #5e-2\n",
    "accs = []\n",
    "\n",
    "for i, (em, lb) in enumerate(zip([train_embeddings, test_embeddings],[train_labels, test_labels])):\n",
    "\n",
    "    perm_ind = np.random.permutation(len(em))\n",
    "    perm_embeddings = em[perm_ind,:]\n",
    "    perm_labels = np.array(lb)[perm_ind]\n",
    "\n",
    "    if i < 1:\n",
    "        clf = LogisticRegression(random_state=0,solver='lbfgs',multi_class='multinomial',C=C).fit(perm_embeddings, perm_labels)\n",
    "    y_pred = clf.predict(em)\n",
    "    print(np.mean(1*(y_pred==perm_labels)))"
   ]
  },
  {
   "cell_type": "code",
   "execution_count": 66,
   "metadata": {},
   "outputs": [
    {
     "data": {
      "application/vnd.jupyter.widget-view+json": {
       "model_id": "4789265f0aff4b85a1960cbedca07b33",
       "version_major": 2,
       "version_minor": 0
      },
      "text/plain": [
       "HBox(children=(IntProgress(value=0, max=80), HTML(value='')))"
      ]
     },
     "metadata": {},
     "output_type": "display_data"
    },
    {
     "name": "stdout",
     "output_type": "stream",
     "text": [
      "\n",
      "0.375\n"
     ]
    }
   ],
   "source": [
    "from sklearn.linear_model import LogisticRegression\n",
    "# import warnings filter\n",
    "from warnings import simplefilter\n",
    "# ignore all future warnings\n",
    "simplefilter(action='ignore', category=FutureWarning)\n",
    "\n",
    "K = 1\n",
    "perm_ind = np.random.permutation(num_animals)\n",
    "perm_embeddings = sentence_embeddings[perm_ind,:]\n",
    "perm_labels = np.array(group_labels)[perm_ind]\n",
    "\n",
    "C = 5e-2 #5e-2\n",
    "accs = []\n",
    "\n",
    "for i in tqdm(range(int(num_animals / float(K)))):\n",
    "    \n",
    "    shifted_embeddings = np.roll(perm_embeddings, i*K, axis=0)\n",
    "    shifted_labels = np.roll(perm_labels, i*K, axis=0)\n",
    "\n",
    "    train_X, train_y = shifted_embeddings[K:,:], shifted_labels[K:]\n",
    "    test_X, test_y = shifted_embeddings[:K,:], shifted_labels[:K]\n",
    "\n",
    "    clf = LogisticRegression(random_state=0,solver='lbfgs',multi_class='multinomial',C=C).fit(train_X, train_y)\n",
    "    y_pred = clf.predict(test_X)\n",
    "    accs.append(np.mean(1*(y_pred == test_y)))\n",
    "print(np.mean(accs))"
   ]
  },
  {
   "cell_type": "code",
   "execution_count": null,
   "metadata": {},
   "outputs": [],
   "source": []
  }
 ],
 "metadata": {
  "kernelspec": {
   "display_name": "Python 3",
   "language": "python",
   "name": "python3"
  },
  "language_info": {
   "codemirror_mode": {
    "name": "ipython",
    "version": 3
   },
   "file_extension": ".py",
   "mimetype": "text/x-python",
   "name": "python",
   "nbconvert_exporter": "python",
   "pygments_lexer": "ipython3",
   "version": "3.7.4"
  }
 },
 "nbformat": 4,
 "nbformat_minor": 5
}
