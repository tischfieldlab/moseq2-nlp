{
 "cells": [
  {
   "cell_type": "code",
   "execution_count": 1,
   "metadata": {},
   "outputs": [],
   "source": [
    "import pandas as pd\n",
    "import numpy as np\n",
    "import matplotlib.pyplot as plt\n",
    "import os\n",
    "%matplotlib inline\n",
    "\n",
    "# from moseq2_nlp.data import get_embedding_representation, get_transition_representation, get_usage_representation, load_groups\n",
    "import moseq2_nlp.train as trainer\n",
    "from typing import Literal\n",
    "\n",
    "from moseq2_viz.util import parse_index, read_yaml\n",
    "from moseq2_viz.model.util import (get_transition_matrix, parse_model_results)\n",
    "from moseq2_nlp.data import get_embedding_representation, load_groups, get_raw_data\n",
    "from moseq2_nlp.utils import ensure_dir, write_yaml\n",
    "from moseq2_nlp.train import train_regressor\n",
    "from tqdm import tqdm\n",
    "from gensim.models.doc2vec import Doc2Vec, TaggedDocument\n",
    "from sklearn.model_selection import cross_val_score, train_test_split"
   ]
  },
  {
   "cell_type": "code",
   "execution_count": 3,
   "metadata": {},
   "outputs": [],
   "source": [
    "np_load_old = np.load\n",
    "\n",
    "# modify the default parameters of np.load\n",
    "np.load = lambda *a,**k: np_load_old(*a, allow_pickle=True, **k)\n",
    "\n",
    "top10 = np.load(\"/Users/aishwaryaharpale/tischfield-lab/moseq2-nlp/top10MIA.npy\")\n",
    "top5 = np.load(\"/Users/aishwaryaharpale/tischfield-lab/moseq2-nlp/top5MIA.npy\")\n",
    "\n",
    "np.load = np_load_old"
   ]
  },
  {
   "cell_type": "code",
   "execution_count": 9,
   "metadata": {},
   "outputs": [
    {
     "data": {
      "text/plain": [
       "array({'MIA 3d': {'10': 18, '4': 8, '53': 14, '9': 19, '25': 9, '46': 6, '5': 15, '22': 7, '28': 5, '34': 16, '11': 7, '20': 10, '63': 14, '37': 9, '23': 13, '60': 4, '38': 5, '19': 4, '30': 1, '24': 3, '3': 2, '36': 1}, 'MIA bsl + gaba': {'9': 10, '63': 10, '24': 3, '34': 9, '10': 9, '23': 7, '53': 8, '20': 7, '11': 6, '38': 2, '30': 2, '22': 4, '25': 3, '5': 7, '37': 5, '46': 1, '58': 3, '3': 1, '4': 3}, 'MIA bsl + saline': {'4': 2, '10': 10, '60': 4, '53': 10, '9': 10, '46': 5, '5': 7, '22': 8, '23': 10, '25': 2, '11': 7, '34': 1, '63': 7, '3': 2, '20': 6, '38': 3, '37': 2, '13': 1, '58': 2, '24': 1}, 'MIA 10d + gaba': {'34': 8, '11': 7, '10': 9, '24': 5, '20': 3, '23': 7, '4': 6, '13': 1, '25': 5, '9': 8, '5': 5, '37': 4, '22': 2, '38': 2, '53': 6, '63': 6, '3': 1, '19': 2, '46': 1, '48': 1, '60': 1}, 'MIA bsl': {'63': 18, '10': 18, '9': 20, '53': 19, '20': 11, '4': 5, '11': 11, '22': 13, '5': 13, '38': 13, '23': 16, '24': 4, '3': 6, '15': 1, '43': 3, '60': 9, '30': 2, '25': 6, '46': 5, '34': 3, '37': 1, '48': 1, '58': 1, '28': 1}, 'MIA 10d + saline': {'10': 10, '19': 7, '4': 6, '5': 7, '11': 8, '9': 7, '20': 6, '24': 7, '22': 3, '30': 3, '34': 7, '60': 7, '36': 1, '53': 4, '23': 4, '46': 2, '28': 1, '37': 1, '25': 1, '63': 2, '38': 3, '3': 2, '16': 1}},\n",
       "      dtype=object)"
      ]
     },
     "execution_count": 9,
     "metadata": {},
     "output_type": "execute_result"
    }
   ],
   "source": [
    "top10"
   ]
  },
  {
   "cell_type": "code",
   "execution_count": 6,
   "metadata": {},
   "outputs": [
    {
     "name": "stdout",
     "output_type": "stream",
     "text": [
      "Top 10 results: \n"
     ]
    },
    {
     "ename": "AttributeError",
     "evalue": "'numpy.ndarray' object has no attribute 'keys'",
     "output_type": "error",
     "traceback": [
      "\u001b[0;31m---------------------------------------------------------------------------\u001b[0m",
      "\u001b[0;31mAttributeError\u001b[0m                            Traceback (most recent call last)",
      "\u001b[1;32m/Users/aishwaryaharpale/tischfield-lab/moseq2-nlp/moseq2_nlp/lime-manon-data.ipynb Cell 3\u001b[0m in \u001b[0;36m<cell line: 2>\u001b[0;34m()\u001b[0m\n\u001b[1;32m      <a href='vscode-notebook-cell:/Users/aishwaryaharpale/tischfield-lab/moseq2-nlp/moseq2_nlp/lime-manon-data.ipynb#W2sZmlsZQ%3D%3D?line=0'>1</a>\u001b[0m \u001b[39mprint\u001b[39m(\u001b[39m\"\u001b[39m\u001b[39mTop 10 results: \u001b[39m\u001b[39m\"\u001b[39m)\n\u001b[0;32m----> <a href='vscode-notebook-cell:/Users/aishwaryaharpale/tischfield-lab/moseq2-nlp/moseq2_nlp/lime-manon-data.ipynb#W2sZmlsZQ%3D%3D?line=1'>2</a>\u001b[0m \u001b[39mfor\u001b[39;00m item \u001b[39min\u001b[39;00m top10\u001b[39m.\u001b[39;49mkeys():\n\u001b[1;32m      <a href='vscode-notebook-cell:/Users/aishwaryaharpale/tischfield-lab/moseq2-nlp/moseq2_nlp/lime-manon-data.ipynb#W2sZmlsZQ%3D%3D?line=2'>3</a>\u001b[0m     \u001b[39mprint\u001b[39m(item,\u001b[39m\"\u001b[39m\u001b[39m : \u001b[39m\u001b[39m\"\u001b[39m, \u001b[39mlen\u001b[39m(top10[item]))\n\u001b[1;32m      <a href='vscode-notebook-cell:/Users/aishwaryaharpale/tischfield-lab/moseq2-nlp/moseq2_nlp/lime-manon-data.ipynb#W2sZmlsZQ%3D%3D?line=4'>5</a>\u001b[0m \u001b[39mprint\u001b[39m(\u001b[39m\"\u001b[39m\u001b[39mTop 5 results: \u001b[39m\u001b[39m\"\u001b[39m)\n",
      "\u001b[0;31mAttributeError\u001b[0m: 'numpy.ndarray' object has no attribute 'keys'"
     ]
    }
   ],
   "source": [
    "print(\"Top 10 results: \")\n",
    "for item in top10.keys():\n",
    "    print(item,\" : \", len(top10[item]))\n",
    "\n",
    "print(\"Top 5 results: \")\n",
    "for item in top5.keys():\n",
    "    print(item,\" : \", len(top5[item]))"
   ]
  },
  {
   "cell_type": "code",
   "execution_count": null,
   "metadata": {},
   "outputs": [],
   "source": []
  }
 ],
 "metadata": {
  "kernelspec": {
   "display_name": "Python 3.8.12 ('moseq2-nlp')",
   "language": "python",
   "name": "python3"
  },
  "language_info": {
   "codemirror_mode": {
    "name": "ipython",
    "version": 3
   },
   "file_extension": ".py",
   "mimetype": "text/x-python",
   "name": "python",
   "nbconvert_exporter": "python",
   "pygments_lexer": "ipython3",
   "version": "3.8.12"
  },
  "orig_nbformat": 4,
  "vscode": {
   "interpreter": {
    "hash": "d4ef0c315d2ba8ad2ac3a19f1bc6406ac8861221a27524d032c0c86158536782"
   }
  }
 },
 "nbformat": 4,
 "nbformat_minor": 2
}
