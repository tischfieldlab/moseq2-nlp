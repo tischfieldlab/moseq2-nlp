{
 "cells": [
  {
   "cell_type": "code",
   "execution_count": 1,
   "id": "48568821",
   "metadata": {},
   "outputs": [],
   "source": [
    "import numpy as np\n",
    "import matplotlib.pyplot as plt\n",
    "plt.style.use('ggplot')\n",
    "from typing import Optional, List\n",
    "from moseq2_nlp.data import load_groups, get_transition_representation, get_transition_representations_n, sample_markov_chain\n",
    "from moseq2_nlp.train import train_regressor, train_svm\n",
    "from moseq2_viz.util import parse_index\n",
    "from moseq2_viz.model.util import (get_transition_matrix,\n",
    "                                   parse_model_results,\n",
    "                                   results_to_dataframe,\n",
    "                                   relabel_by_usage, get_syllable_statistics)\n",
    "from gensim.models.doc2vec import Doc2Vec, TaggedDocument\n",
    "import pdb\n",
    "import os\n",
    "from tqdm import tqdm\n",
    "os.environ['CUDA_DEVICE_ORDER']='PCI_BUS_ID'\n",
    "os.environ['CUDA_VISIBLE_DEVICES']='0'"
   ]
  },
  {
   "cell_type": "code",
   "execution_count": 2,
   "id": "90eb5b78",
   "metadata": {},
   "outputs": [],
   "source": [
    "from moseq2_nlp.gridsearch import get_best_model, find_gridsearch_results\n",
    "\n",
    "path = '/cs/labs/mornitzan/ricci/data/abraira/vibhu/vibhu_r21/gridsearch_results/2022-06-13_analysis_3w_only/moseq-nlp/results'"
   ]
  },
  {
   "cell_type": "code",
   "execution_count": 3,
   "id": "32f5f651",
   "metadata": {},
   "outputs": [],
   "source": [
    "df = find_gridsearch_results(path)\n",
    "embedding_df   = df.loc[df['representation'] == 'embeddings']\n",
    "transitions_df = df.loc[df['representation'] == 'transitions']\n",
    "usages_df      = df.loc[df['representation'] == 'usages']"
   ]
  },
  {
   "cell_type": "code",
   "execution_count": 4,
   "id": "b48bec3f",
   "metadata": {},
   "outputs": [],
   "source": [
    "# Load exp info\n",
    "\n",
    "from moseq2_nlp.gridsearch import get_best_model, find_gridsearch_results\n",
    "\n",
    "path = '/cs/labs/mornitzan/ricci/data/abraira/vibhu/vibhu_r21/gridsearch_results/2022-06-13_analysis_3w_only/moseq-nlp/results'\n",
    "\n",
    "df = find_gridsearch_results(path)\n",
    "best_embedding_exp = df.loc[df['representation'] == 'embeddings'].sort_values('best_accuracy', ascending=False).iloc[0]\n",
    "best_transitions_exp = df.loc[df['representation'] == 'transitions'].sort_values('best_accuracy', ascending=False).iloc[0]\n",
    "best_usages_exp  = df.loc[df['representation'] == 'usages'].sort_values('best_accuracy', ascending=False).iloc[0]"
   ]
  },
  {
   "cell_type": "code",
   "execution_count": 6,
   "id": "84abda5b",
   "metadata": {},
   "outputs": [
    {
     "name": "stderr",
     "output_type": "stream",
     "text": [
      "100%|███████████████████████████████████████████████████████████████████████████████████| 39/39 [00:01<00:00, 23.49it/s]\n",
      "100%|██████████████████████████████████████████████████████████████████████████████████| 39/39 [00:00<00:00, 212.60it/s]\n",
      "100%|██████████████████████████████████████████████████████████████████████████████████| 39/39 [00:00<00:00, 330.14it/s]\n"
     ]
    },
    {
     "name": "stdout",
     "output_type": "stream",
     "text": [
      "Inferring embeddings...\n"
     ]
    }
   ],
   "source": [
    "# Get all representations\n",
    "from moseq2_nlp.data import load_groups, get_raw_data, get_usage_representation, get_transition_representation\n",
    "from moseq2_nlp.models import DocumentEmbedding\n",
    "\n",
    "model_file       = '/cs/labs/mornitzan/ricci/data/abraira/vibhu/vibhu_r21/3w_rOT_model_1000.p'\n",
    "index_file       = '/cs/labs/mornitzan/ricci/data/abraira/vibhu/vibhu_r21/moseq2-index.3w.grouped.yaml'\n",
    "max_syllable     = best_embedding_exp['num_syllables']\n",
    "num_transitions  = best_transitions_exp['num_transitions']\n",
    "dm               = best_embedding_exp['dm']\n",
    "embedding_epochs = best_embedding_exp['embedding_epochs']\n",
    "embedding_window = best_embedding_exp['embedding_window']\n",
    "embedding_dim    = best_embedding_exp['embedding_dim']\n",
    "min_count        = best_embedding_exp['min_count']\n",
    "bad_syllables    = best_embedding_exp['bad_syllables']\n",
    "emissions        = best_embedding_exp['emissions']\n",
    "de_path          = os.path.join('/cs/labs/mornitzan/ricci/data/abraira/vibhu/vibhu_r21', 'gridsearch_results/2022-06-13_analysis_3w_only/moseq-nlp/results',best_embedding_exp['name'],'doc2vec')\n",
    "\n",
    "group_map = load_groups(index_file, [])\n",
    "sentences, labels = get_raw_data(model_file, index_file,max_syllable=max_syllable, emissions=emissions, bad_syllables=bad_syllables)\n",
    "_, U = get_usage_representation(model_file, index_file, group_map, max_syllable=max_syllable)\n",
    "_, T = get_transition_representation(model_file, index_file, group_map, num_transitions, max_syllable=max_syllable)\n",
    "de = DocumentEmbedding(dm, embedding_dim, embedding_window, embedding_epochs, min_count)\n",
    "de.load(de_path)\n",
    "print('Inferring embeddings...')\n",
    "E = de.predict(sentences)\n"
   ]
  },
  {
   "cell_type": "code",
   "execution_count": 10,
   "id": "40b65559",
   "metadata": {
    "scrolled": false
   },
   "outputs": [
    {
     "name": "stderr",
     "output_type": "stream",
     "text": [
      "  0%|                                                                                            | 0/11 [00:00<?, ?it/s]/cs/usr/ricci/anaconda3/envs/moseq2-nlp/lib/python3.8/site-packages/sklearn/linear_model/_logistic.py:763: ConvergenceWarning: lbfgs failed to converge (status=2):\n",
      "ABNORMAL_TERMINATION_IN_LNSRCH.\n",
      "\n",
      "Increase the number of iterations (max_iter) or scale the data as shown in:\n",
      "    https://scikit-learn.org/stable/modules/preprocessing.html\n",
      "Please also refer to the documentation for alternative solver options:\n",
      "    https://scikit-learn.org/stable/modules/linear_model.html#logistic-regression\n",
      "  n_iter_i = _check_optimize_result(\n",
      "100%|███████████████████████████████████████████████████████████████████████████████████| 11/11 [00:00<00:00, 13.96it/s]\n"
     ]
    }
   ],
   "source": [
    "from sklearn.linear_model import LogisticRegression\n",
    "from sklearn.metrics import confusion_matrix\n",
    "from sklearn.model_selection import StratifiedKFold, StratifiedShuffleSplit\n",
    "\n",
    "# import warnings filter\n",
    "from warnings import simplefilter\n",
    "# ignore all future warnings\n",
    "simplefilter(action='ignore', category=FutureWarning)\n",
    "\n",
    "seed=best_embedding_exp['seed']\n",
    "num_c = best_embedding_exp['num_c']\n",
    "K = 10 # K-fold cross-validation\n",
    "all_C = np.logspace(-5,5, num=num_c)\n",
    "stratified = False\n",
    "num_splits = 10\n",
    "penalty = 'l2'\n",
    "num_animals = E.shape[0]\n",
    "custom_groupings = {0:0, 1:1, 2:1}\n",
    "\n",
    "# Permute training data\n",
    "perm_ind = np.random.permutation(num_animals)\n",
    "perm_E = np.array(E)#[perm_ind,:]\n",
    "perm_U = U#[perm_ind,:]\n",
    "perm_T  = T#[perm_ind,:]\n",
    "\n",
    "unique_labels = []\n",
    "for label in labels:\n",
    "    if label not in unique_labels:\n",
    "        unique_labels.append(label)\n",
    "label_nums = []\n",
    "for label in labels:\n",
    "    ind = unique_labels.index(label)\n",
    "    if custom_groupings is not None:\n",
    "        label_nums.append(custom_groupings[ind])\n",
    "    else:\n",
    "        label_nums.append(ind)\n",
    "        \n",
    "num_label_nums = len(np.unique(label_nums))\n",
    "perm_labels = np.array(label_nums)#[perm_ind]\n",
    "if stratified:\n",
    "#     skf = StratifiedKFold(n_splits=num_splits) \n",
    "    skf = StratifiedShuffleSplit(n_splits=num_splits)\n",
    "else:\n",
    "    num_splits = int(num_animals / float(K))\n",
    "\n",
    "accs_per_C = []\n",
    "accs_per_C_std = []\n",
    "cms_per_C = []\n",
    "accs_per_rep = []\n",
    "names = ['Usages', 'Transitions', 'Embeddings']\n",
    "# For each representation\n",
    "for C in tqdm(all_C):\n",
    "    accs = [[],[],[]]\n",
    "    cms  = 3*[np.zeros((num_label_nums,num_label_nums))]\n",
    "    for j, (nm, rep) in enumerate(zip(names,[perm_U, perm_T, perm_E])):\n",
    "        if stratified:\n",
    "            skf.get_n_splits(rep,label_nums)\n",
    "            stratified_splits = [split for split in skf.split(rep,label_nums)]\n",
    "        # For each split\n",
    "        for i in range(num_splits):\n",
    "#             print(i)\n",
    "            # New split of data and labels\n",
    "            if stratified:\n",
    "                train_inds, test_inds = stratified_splits[i]\n",
    "                train_X, test_X = rep[train_inds], rep[test_inds]\n",
    "                train_y, test_y = perm_labels[train_inds], perm_labels[test_inds]\n",
    "#                 test_y_inds = [unique_labels.index(lb) for lb in test_y]\n",
    "                test_y_inds = test_y\n",
    "\n",
    "            else:\n",
    "                shifted_rep = np.roll(rep, i*K, axis=0)\n",
    "                shifted_labels = np.roll(perm_labels, i*K, axis=0)\n",
    "\n",
    "                # Split into train and test\n",
    "                train_X, train_y = shifted_rep[K:,:], shifted_labels[K:]\n",
    "                test_X, test_y = shifted_rep[:K,:], shifted_labels[:K]\n",
    "#                 test_y_inds = [unique_labels.index(lb) for lb in test_y]\n",
    "                test_y_inds = test_y\n",
    "            # Load and train classifier\n",
    "            if penalty != 'none':\n",
    "                clf = LogisticRegression(random_state=seed,dual=False,solver='lbfgs', penalty=penalty,class_weight='balanced',\n",
    "                                     multi_class='auto',C=C, tol=1e-6, max_iter=2000).fit(train_X, train_y)\n",
    "            else:\n",
    "                clf = LogisticRegression(random_state=seed,dual=False,solver='lbfgs',class_weight='balanced',\n",
    "                         multi_class='auto', tol=1e-6, max_iter=2000).fit(train_X, train_y)\n",
    "            # Predict on held-out data\n",
    "            y_pred = clf.predict(test_X)\n",
    "#             pred_y_inds = [unique_labels.index(lb) for lb in y_pred]\n",
    "            pred_y_inds = y_pred\n",
    "            # Store average accuracy on test set for this split for this representation\n",
    "            accs[j].append(np.mean(1*(y_pred == test_y)))\n",
    "            for l, (true, pred) in enumerate(zip(test_y_inds, pred_y_inds)):\n",
    "                cms[j][true,pred] += 1\n",
    "    cms_per_C.append(np.array(cms))\n",
    "    accs_per_C.append(np.array(accs).mean(-1))\n",
    "    accs_per_C_std.append(np.array(accs).std(-1))\n",
    "cms_per_C = np.array(cms_per_C)\n"
   ]
  },
  {
   "cell_type": "code",
   "execution_count": 9,
   "id": "387e9edd",
   "metadata": {},
   "outputs": [
    {
     "name": "stdout",
     "output_type": "stream",
     "text": [
      "['Fezf2_KO_3w', 'Fezf2_het_3w', 'Fezf2_wt_3w']\n"
     ]
    }
   ],
   "source": [
    "print(unique_labels)"
   ]
  },
  {
   "cell_type": "code",
   "execution_count": 19,
   "id": "82e0de7b",
   "metadata": {},
   "outputs": [
    {
     "name": "stderr",
     "output_type": "stream",
     "text": [
      "/tmp/ipykernel_30133/2322963825.py:20: MatplotlibDeprecationWarning: Auto-removal of grids by pcolor() and pcolormesh() is deprecated since 3.5 and will be removed two minor releases later; please call grid(False) first.\n",
      "  fig.colorbar(im, cax=cax, orientation='vertical')\n"
     ]
    },
    {
     "data": {
      "image/png": "[encoded data removed]",
      "text/plain": [
       "<Figure size 1080x360 with 6 Axes>"
      ]
     },
     "metadata": {},
     "output_type": "display_data"
    }
   ],
   "source": [
    "# num_c x reps x classes x classes\n",
    "from mpl_toolkits.axes_grid1 import make_axes_locatable\n",
    "fig, axes = plt.subplots(1,3, figsize=(15,5))\n",
    "accs_per_C = np.array(accs_per_C)\n",
    "for nm, i in zip(['Usages', 'Transitions', 'Embeddings'],range(3)):\n",
    "    rep_accs = accs_per_C[:,i]\n",
    "    rep_cms = cms_per_C[:,i]\n",
    "    best_cm = rep_cms[np.argmax(rep_accs)]\n",
    "    normalized_mx = best_cm/best_cm.sum(0)\n",
    "    im = axes[i].imshow(normalized_mx)\n",
    "    best_acc = np.max(rep_accs)\n",
    "#     print(best_acc)\n",
    "    axes[i].set_title(nm + f': Acc: {best_acc:.3f}')\n",
    "    axes[i].set_xticks(range(num_label_nums))\n",
    "    axes[i].set_yticks(range(num_label_nums))\n",
    "    axes[i].set_xticklabels(['pred ' + str(ul) for ul in range(num_label_nums)], rotation=45)\n",
    "    axes[i].set_yticklabels(['gt ' + str(ul) for ul in range(num_label_nums)],rotation=45)\n",
    "    divider = make_axes_locatable(axes[i])\n",
    "    cax = divider.append_axes('right', size='5%', pad=0.05)\n",
    "    fig.colorbar(im, cax=cax, orientation='vertical')\n",
    "plt.subplots_adjust(wspace=.6)\n",
    "plt.show()"
   ]
  },
  {
   "cell_type": "code",
   "execution_count": 41,
   "id": "7ba1e91e",
   "metadata": {},
   "outputs": [
    {
     "data": {
      "image/png": "[encoded data removed]",
      "text/plain": [
       "<Figure size 648x432 with 1 Axes>"
      ]
     },
     "metadata": {},
     "output_type": "display_data"
    }
   ],
   "source": [
    "best_C_inds = np.argmax(accs_per_C,axis=0)\n",
    "accs_per_C_std = np.array(accs_per_C_std)\n",
    "best_accs = [accs_per_C[best_C_inds[i],i] for i in range(3)]\n",
    "best_stds = [accs_per_C_std[best_C_inds[i],i] for i in range(3)]\n",
    "fig, ax = plt.subplots(figsize=(9,6))\n",
    "bar_labels = ['Usages', 'Transitions', 'Embeddings']\n",
    "bars = plt.bar([0,1,2],best_accs,width=.5,color='r',alpha=.5)\n",
    "plt.errorbar([0,1,2],best_accs, yerr=best_stds,color='blue')\n",
    "ax.set_xticks([0,1,2])\n",
    "ax.set_ylim([0,1.0])\n",
    "ax.set_xticklabels(bar_labels, rotation=30, fontsize=18)\n",
    "ax.set_ylabel('Accuracy', fontsize=18)\n",
    "\n",
    "for r, rect in enumerate(bars):\n",
    "    height = rect.get_height()\n",
    "    ax.text(rect.get_x() + rect.get_width() / 2.0, height + .1, f'{height:.3f} +/- {best_stds[r]:.3f}', ha='center', va='bottom', fontsize=12)\n",
    "\n",
    "plt.yticks(fontsize=12)\n",
    "plt.show()\n",
    "plt.close()"
   ]
  },
  {
   "cell_type": "code",
   "execution_count": 38,
   "id": "dce35174",
   "metadata": {},
   "outputs": [
    {
     "data": {
      "text/plain": [
       "array([[0.55 , 0.525, 0.6  ],\n",
       "       [0.6  , 0.525, 0.6  ],\n",
       "       [0.5  , 0.525, 0.575],\n",
       "       [0.575, 0.525, 0.55 ],\n",
       "       [0.5  , 0.5  , 0.55 ],\n",
       "       [0.525, 0.45 , 0.6  ],\n",
       "       [0.5  , 0.55 , 0.6  ],\n",
       "       [0.375, 0.45 , 0.7  ],\n",
       "       [0.5  , 0.6  , 0.675],\n",
       "       [0.525, 0.575, 0.525],\n",
       "       [0.425, 0.5  , 0.525]])"
      ]
     },
     "execution_count": 38,
     "metadata": {},
     "output_type": "execute_result"
    }
   ],
   "source": [
    "accs_per_C"
   ]
  },
  {
   "cell_type": "code",
   "execution_count": 39,
   "id": "7cbdc9c0",
   "metadata": {},
   "outputs": [
    {
     "data": {
      "text/plain": [
       "array([[0.15      , 0.175     , 0.2       ],\n",
       "       [0.12247449, 0.13462912, 0.16583124],\n",
       "       [0.15811388, 0.175     , 0.225     ],\n",
       "       [0.19525624, 0.13462912, 0.15      ],\n",
       "       [0.19364917, 0.15811388, 0.15      ],\n",
       "       [0.13462912, 0.24494897, 0.27838822],\n",
       "       [0.15811388, 0.15      , 0.25495098],\n",
       "       [0.20155644, 0.15      , 0.26925824],\n",
       "       [0.2236068 , 0.16583124, 0.16007811],\n",
       "       [0.13462912, 0.16007811, 0.175     ],\n",
       "       [0.16007811, 0.2236068 , 0.28394542]])"
      ]
     },
     "execution_count": 39,
     "metadata": {},
     "output_type": "execute_result"
    }
   ],
   "source": [
    "accs_per_C_std"
   ]
  },
  {
   "cell_type": "code",
   "execution_count": null,
   "id": "b55ce672",
   "metadata": {},
   "outputs": [],
   "source": []
  }
 ],
 "metadata": {
  "kernelspec": {
   "display_name": "Python 3 (ipykernel)",
   "language": "python",
   "name": "python3"
  },
  "language_info": {
   "codemirror_mode": {
    "name": "ipython",
    "version": 3
   },
   "file_extension": ".py",
   "mimetype": "text/x-python",
   "name": "python",
   "nbconvert_exporter": "python",
   "pygments_lexer": "ipython3",
   "version": "3.8.12"
  }
 },
 "nbformat": 4,
 "nbformat_minor": 5
}
