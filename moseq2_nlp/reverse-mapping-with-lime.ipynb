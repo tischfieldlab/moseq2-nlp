{
 "cells": [
  {
   "cell_type": "code",
   "execution_count": null,
   "metadata": {},
   "outputs": [],
   "source": [
    "import pandas as pd\n",
    "import numpy as np\n",
    "import matplotlib.pyplot as plt\n",
    "import os\n",
    "%matplotlib inline\n",
    "\n",
    "# from moseq2_nlp.data import get_embedding_representation, get_transition_representation, get_usage_representation, load_groups\n",
    "import moseq2_nlp.train as trainer\n",
    "from typing import Literal\n",
    "\n",
    "from moseq2_viz.util import parse_index, read_yaml\n",
    "from moseq2_viz.model.util import (get_transition_matrix, parse_model_results)\n",
    "from moseq2_nlp.data import get_embedding_representation, load_groups, get_raw_data\n",
    "from moseq2_nlp.utils import ensure_dir, write_yaml\n",
    "from moseq2_nlp.train import train_regressor\n",
    "from tqdm import tqdm\n",
    "from gensim.models.doc2vec import Doc2Vec, TaggedDocument\n",
    "from sklearn.model_selection import cross_val_score, train_test_split"
   ]
  },
  {
   "cell_type": "code",
   "execution_count": null,
   "metadata": {},
   "outputs": [],
   "source": [
    "!pip install lime"
   ]
  },
  {
   "cell_type": "code",
   "execution_count": null,
   "metadata": {},
   "outputs": [],
   "source": [
    "custom_groupings = []\n",
    "model_path = '/Users/aishwaryaharpale/Downloads/Abraira-Lab/2021-02-19_Meloxicam/rOT_model_1000.p'\n",
    "index_path = '/Users/aishwaryaharpale/Downloads/Abraira-Lab/2021-02-19_Meloxicam/moseq2-index.role.yaml'\n",
    "group_map = load_groups(index_path, custom_groupings)"
   ]
  },
  {
   "cell_type": "code",
   "execution_count": null,
   "metadata": {},
   "outputs": [],
   "source": [
    "train_config = '/Users/aishwaryaharpale/tischfield-lab/moseq2-nlp/train-config.yaml'\n",
    "config_data = read_yaml(train_config)\n"
   ]
  },
  {
   "cell_type": "code",
   "execution_count": null,
   "metadata": {},
   "outputs": [],
   "source": [
    "# for key, val in config_data.items():\n",
    "#     print(key, \" : \", val, \" \\n\")\n",
    "\n",
    "exp_dir = ensure_dir(os.path.join(config_data['save_dir'], config_data['name']))"
   ]
  },
  {
   "cell_type": "code",
   "execution_count": null,
   "metadata": {},
   "outputs": [],
   "source": [
    "labels, features = get_embedding_representation(config_data['model_path'], config_data['index_path'], group_map, emissions=True, bad_syllables=config_data['bad_syllables'],\n",
    "                            dm=config_data['dm'], embedding_dim=config_data['embedding_dim'], embedding_window=config_data['embedding_window'], embedding_epochs=config_data['embedding_epochs'], \n",
    "                            min_count=config_data['min_count'],\n",
    "                            model_dest=os.path.join(exp_dir, 'doc2vec'), ablation='none', phrase_path=None, seed=config_data['seed'])"
   ]
  },
  {
   "cell_type": "code",
   "execution_count": null,
   "metadata": {},
   "outputs": [],
   "source": [
    "# This is a DBOW based model only (Does not used DM-Distributed Memory)\n",
    "model = Doc2Vec.load(\"/Users/aishwaryaharpale/tischfield-lab/Reverse-Mapping/rOT/doc2vec.model\")"
   ]
  },
  {
   "cell_type": "code",
   "execution_count": null,
   "metadata": {},
   "outputs": [],
   "source": [
    "X_train, X_test, y_train, y_test = train_test_split(features, labels, test_size=config_data['test_size'], random_state=config_data['split_seed'], stratify=labels)\n",
    "clf = train_regressor(X_train, y_train, config_data['k'], config_data['penalty'], config_data['num_c'], config_data['seed'], config_data['multi_class'])\n",
    "class_names = list(set(labels))"
   ]
  },
  {
   "cell_type": "code",
   "execution_count": null,
   "metadata": {},
   "outputs": [],
   "source": [
    "from lime.lime_text import LimeTextExplainer\n",
    "explainer = LimeTextExplainer(class_names=class_names, bow=True)"
   ]
  },
  {
   "cell_type": "code",
   "execution_count": null,
   "metadata": {},
   "outputs": [],
   "source": [
    "sentences, out_groups = get_raw_data(config_data['model_path'], config_data['index_path'], max_syllable=100, \\\n",
    "                            emissions=config_data['emissions'], bad_syllables=config_data['bad_syllables'], ablation='none', phrase_path=None)"
   ]
  },
  {
   "cell_type": "code",
   "execution_count": null,
   "metadata": {},
   "outputs": [],
   "source": [
    "def new_predict(sentences):\n",
    "    embeddings = []\n",
    "    for sent in sentences:\n",
    "        embeddings.append(model.infer_vector(sent.split(' ')))\n",
    "    embeddings = np.array(embeddings)\n",
    "    return clf.predict_proba(embeddings.reshape(-1, 70))"
   ]
  },
  {
   "cell_type": "code",
   "execution_count": null,
   "metadata": {},
   "outputs": [],
   "source": [
    "embedding = model.infer_vector(sentences[0])\n",
    "# embedding_string = []\n",
    "# for emb in embedding:\n",
    "#     embedding_string.append(str(emb))\n",
    "print(clf.predict_proba(embedding.reshape(-1,70)))\n",
    "#     embedding_string.append(str(emb))\n",
    "print(embedding.reshape(-1,70).shape)\n",
    "print(embedding.shape)"
   ]
  },
  {
   "cell_type": "code",
   "execution_count": null,
   "metadata": {},
   "outputs": [],
   "source": [
    "sent1 = ' '.join(item for item in sentences[0])\n",
    "print(\"Actual label : \",out_groups[0])\n",
    "exp1 = explainer.explain_instance(sent1,new_predict, num_samples=80)\n",
    "fig = exp1.as_pyplot_figure()"
   ]
  },
  {
   "cell_type": "code",
   "execution_count": null,
   "metadata": {},
   "outputs": [],
   "source": [
    "sent2 = ' '.join(item for item in sentences[1])\n",
    "print(\"Actual label : \",out_groups[1])\n",
    "exp2 = explainer.explain_instance(sent2,new_predict, num_samples=80)\n",
    "fig = exp2.as_pyplot_figure()"
   ]
  },
  {
   "cell_type": "code",
   "execution_count": null,
   "metadata": {},
   "outputs": [],
   "source": []
  }
 ],
 "metadata": {
  "kernelspec": {
   "display_name": "Python 3.8.12 ('moseq2-nlp')",
   "language": "python",
   "name": "python3"
  },
  "language_info": {
   "codemirror_mode": {
    "name": "ipython",
    "version": 3
   },
   "file_extension": ".py",
   "mimetype": "text/x-python",
   "name": "python",
   "nbconvert_exporter": "python",
   "pygments_lexer": "ipython3",
   "version": "3.8.12"
  },
  "orig_nbformat": 4,
  "vscode": {
   "interpreter": {
    "hash": "d4ef0c315d2ba8ad2ac3a19f1bc6406ac8861221a27524d032c0c86158536782"
   }
  }
 },
 "nbformat": 4,
 "nbformat_minor": 2
}
